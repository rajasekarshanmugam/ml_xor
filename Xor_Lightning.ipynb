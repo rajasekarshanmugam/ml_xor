{
 "cells": [
  {
   "cell_type": "code",
   "execution_count": 22,
   "id": "16166fb3-2a5c-487d-bac2-30cd1dbdd19d",
   "metadata": {},
   "outputs": [
    {
     "name": "stdout",
     "output_type": "stream",
     "text": [
      "torch: 2.3.0+cu121\n",
      "lightning: 2.3.0\n"
     ]
    }
   ],
   "source": [
    "import torch\n",
    "import torch.nn as nn\n",
    "import torch.optim as optim\n",
    "import lightning.pytorch as pl\n",
    "from torch.utils.data import TensorDataset, DataLoader\n",
    "\n",
    "print(\"torch:\", torch.__version__)\n",
    "print(\"lightning:\", pl.__version__)"
   ]
  },
  {
   "cell_type": "code",
   "execution_count": 23,
   "id": "c1022aa4-8a4f-419f-a61e-fefffeb2da0d",
   "metadata": {},
   "outputs": [],
   "source": [
    "class XorDataModule(pl.LightningDataModule):\n",
    "    def __init__(self, batch_size=4):\n",
    "        super().__init__()\n",
    "        self.batch_size = batch_size\n",
    "    \n",
    "    def prepare_data(self):\n",
    "        self.x = torch.Tensor([[0., 0.], [0., 1.], [1., 0.], [1., 1.]])\n",
    "        self.y = torch.Tensor([[0.], [1.], [1.], [0.]])\n",
    "    \n",
    "    def setup(self, stage = None):\n",
    "        pass\n",
    "\n",
    "    def train_dataloader(self):\n",
    "        ds = TensorDataset(self.x, self.y)\n",
    "        train_loader = DataLoader(dataset = ds, batch_size = self.batch_size)\n",
    "        return train_loader\n",
    "\n",
    "    def predict_dataloader(self):\n",
    "        ds = TensorDataset(self.x, self.y)\n",
    "        train_loader = DataLoader(dataset = ds, batch_size = 1)\n",
    "        return train_loader"
   ]
  },
  {
   "cell_type": "code",
   "execution_count": 24,
   "id": "79cc1b6c-e164-42b7-885b-06b4277f9d23",
   "metadata": {},
   "outputs": [],
   "source": [
    "class XorClassificationModule(pl.LightningModule):\n",
    "    def __init__(self):\n",
    "        super().__init__()\n",
    "        self.linear_stack = nn.Sequential(\n",
    "            nn.Linear(2, 4),\n",
    "            nn.ReLU(),\n",
    "            nn.Linear(4, 1)\n",
    "        )\n",
    "        self.loss = nn.MSELoss()\n",
    "\n",
    "    def configure_optimizers(self):\n",
    "        return optim.Adam(model.parameters(), lr=0.01)\n",
    "        \n",
    "    def forward(self, inputs):\n",
    "        return self.linear_stack(inputs)\n",
    "   \n",
    "    def training_step(self, batch, batch_idx):\n",
    "        x, y = batch\n",
    "        logits = self.forward(x)\n",
    "        loss = self.loss(logits, y)\n",
    "        self.log(\"train_loss\", loss, prog_bar = True, on_epoch=True, on_step=True)\n",
    "        return loss\n",
    "\n",
    "    def predict_step(self, batch, batch_idx):\n",
    "        x, y = batch\n",
    "        return self(x)"
   ]
  },
  {
   "cell_type": "code",
   "execution_count": 25,
   "id": "0801c019-7f90-44c2-82fb-179da874d1be",
   "metadata": {},
   "outputs": [
    {
     "name": "stderr",
     "output_type": "stream",
     "text": [
      "GPU available: True (cuda), used: True\n",
      "TPU available: False, using: 0 TPU cores\n",
      "HPU available: False, using: 0 HPUs\n",
      "LOCAL_RANK: 0 - CUDA_VISIBLE_DEVICES: [0]\n",
      "\n",
      "  | Name         | Type       | Params | Mode \n",
      "----------------------------------------------------\n",
      "0 | linear_stack | Sequential | 17     | train\n",
      "1 | loss         | MSELoss    | 0      | train\n",
      "----------------------------------------------------\n",
      "17        Trainable params\n",
      "0         Non-trainable params\n",
      "17        Total params\n",
      "0.000     Total estimated model params size (MB)\n"
     ]
    },
    {
     "data": {
      "application/vnd.jupyter.widget-view+json": {
       "model_id": "432a64106f1f422d9bdd8dad6eb64821",
       "version_major": 2,
       "version_minor": 0
      },
      "text/plain": [
       "Training: |                                                                                      | 0/? [00:00<…"
      ]
     },
     "metadata": {},
     "output_type": "display_data"
    }
   ],
   "source": [
    "from lightning.pytorch.callbacks.early_stopping import EarlyStopping\n",
    "\n",
    "datamodel = XorDataModule()\n",
    "model = XorClassificationModule()\n",
    "\n",
    "trainer = pl.Trainer(\n",
    "    max_epochs = 1000,\n",
    "    callbacks=[EarlyStopping(monitor=\"train_loss\", mode=\"min\", patience=5, min_delta=0.0001)]\n",
    ")\n",
    "trainer.fit(model, datamodule = datamodel)"
   ]
  },
  {
   "cell_type": "code",
   "execution_count": 26,
   "id": "f8e1b130-288e-4939-a04d-dcef7a97131b",
   "metadata": {},
   "outputs": [
    {
     "name": "stderr",
     "output_type": "stream",
     "text": [
      "LOCAL_RANK: 0 - CUDA_VISIBLE_DEVICES: [0]\n"
     ]
    },
    {
     "data": {
      "application/vnd.jupyter.widget-view+json": {
       "model_id": "ac81a832537d456899275663968162b0",
       "version_major": 2,
       "version_minor": 0
      },
      "text/plain": [
       "Predicting: |                                                                                    | 0/? [00:00<…"
      ]
     },
     "metadata": {},
     "output_type": "display_data"
    },
    {
     "name": "stdout",
     "output_type": "stream",
     "text": [
      "expected: tensor([0., 1., 1., 0.])\n",
      "predicted: tensor([-0., 1., 1., 0.])\n"
     ]
    }
   ],
   "source": [
    "dl = datamodel.train_dataloader()\n",
    "\n",
    "predictions = trainer.predict(model = model, dataloaders = dl)\n",
    "y_hat =  torch.round(torch.cat(predictions)).reshape(-1,)\n",
    "\n",
    "labels = [label for data, label in dl]\n",
    "y_true = torch.stack(labels).reshape(-1,)\n",
    "print(\"expected:\", y_true)\n",
    "print(\"predicted:\", y_hat)"
   ]
  },
  {
   "cell_type": "code",
   "execution_count": null,
   "id": "098b2f4f-0c08-4eef-9fb3-5be4ce33dfa0",
   "metadata": {},
   "outputs": [],
   "source": []
  }
 ],
 "metadata": {
  "kernelspec": {
   "display_name": "Python 3 (ipykernel)",
   "language": "python",
   "name": "python3"
  },
  "language_info": {
   "codemirror_mode": {
    "name": "ipython",
    "version": 3
   },
   "file_extension": ".py",
   "mimetype": "text/x-python",
   "name": "python",
   "nbconvert_exporter": "python",
   "pygments_lexer": "ipython3",
   "version": "3.11.7"
  }
 },
 "nbformat": 4,
 "nbformat_minor": 5
}
